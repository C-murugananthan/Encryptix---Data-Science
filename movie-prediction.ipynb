import pandas as pd
df = pd.read_csv('/content/imdb-movies.csv',encoding='ISO-8859-1')
df.head()
print(df.head())

df.isnull().sum()
print(df.isnull().sum())
df.dropna(inplace=True)
df.describe()
print(df.describe())

print("Initial DataFrame:")
print(df.head())

print("\nColumns in the DataFrame:")
print(df.columns)

from sklearn.preprocessing import LabelEncoder

# Encoding categorical features
label_encoder = LabelEncoder()
df['Genre'] = label_encoder.fit_transform(df['Genre'])
df['Director'] = label_encoder.fit_transform(df['Director'])
df['Actor 1'] = label_encoder.fit_transform(df['Actor 1'])
df['Actor 2'] = label_encoder.fit_transform(df['Actor 2'])
df['Actor 3'] = label_encoder.fit_transform(df['Actor 3'])

# Displaying the first few rows of the encoded DataFrame
print("\nDataFrame after encoding:")
print(df.head())

X = df[['Genre', 'Director', 'Actor 1', 'Actor 2', 'Actor 3']]
y = df['Rating']
print(X)
print(y)

from sklearn.model_selection import train_test_split
X_train, X_test, y_train, y_test = train_test_split(X, y, test_size=0.2, random_state=42)

# Standardize the features
from sklearn.preprocessing import StandardScaler

scaler = StandardScaler()
X_train = scaler.fit_transform(X_train)
X_test = scaler.transform(X_test)

# Build and train the regression model
from sklearn.linear_model import LinearRegression
model = LinearRegression()
model.fit(X_train, y_train)

# Make predictions
y_pred = model.predict(X_test)

# Evaluate the model
from sklearn.metrics import mean_squared_error, r2_score
mse = mean_squared_error(y_test, y_pred)
r2 = r2_score(y_test, y_pred)
print(f'Mean Squared Error: {mse}')
print(f'R-squared: {r2}')

#Visualization
import matplotlib.pyplot as plt

# Visualizing actual vs predicted ratings
plt.figure(figsize=(10, 6))
plt.scatter(y_test, y_pred, color='blue')
plt.plot([min(y_test), max(y_test)], [min(y_test), max(y_test)], color='red', linewidth=2)
plt.xlabel('Actual Ratings')
plt.ylabel('Predicted Ratings')
plt.title('Actual vs Predicted Ratings')
plt.show()

import seaborn as sns
plt.figure(figsize=(12, 6))
sns.boxplot(x='Genre', y='Rating', data=df)
plt.xlabel('Genre')
plt.ylabel('Rating')
plt.title('Boxplot of Ratings by Genre')
plt.show()

plt.figure(figsize=(14, 8))
avg_ratings_by_director = df.groupby('Director')['Rating'].mean().sort_values(ascending=False).head(10)
avg_ratings_by_director.plot(kind='bar', color='skyblue')
plt.xlabel('Director')
plt.ylabel('Average Rating')
plt.title('Top 10 Directors by Average Rating')
plt.show()

# Regression line plot
plt.figure(figsize=(10, 6))
sns.regplot(x=y_test, y=y_pred, scatter_kws={'color':'blue'}, line_kws={'color':'red'})
plt.xlabel('Actual Ratings')
plt.ylabel('Predicted Ratings')
plt.title('Regression Line Plot')
plt.show()
