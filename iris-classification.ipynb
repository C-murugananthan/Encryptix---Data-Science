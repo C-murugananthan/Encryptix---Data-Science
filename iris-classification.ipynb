# Import necessary libraries
import pandas as pd
import numpy as np
import matplotlib.pyplot as plt
import seaborn as sns
from sklearn.model_selection import train_test_split
from sklearn.preprocessing import StandardScaler
from sklearn.metrics import accuracy_score, classification_report, confusion_matrix
from sklearn.neighbors import KNeighborsClassifier

# Load the Iris dataset from sklearn
from sklearn.datasets import load_iris
data = pd.read_csv('/content/IRIS.csv')
print(data.columns)

# Display first few rows and basic statistics
print("First few rows of the dataset:")
print(data.head())
print("\nBasic statistics of the dataset:")
print(data.describe())


# Pairplot for feature distribution and relationships
plt.figure(figsize=(12, 8))
sns.pairplot(data, hue='species', palette='Set1', markers=["o", "s", "D"])
plt.suptitle('Pairplot of Iris Dataset', size=2)
plt.show()

# Define features (X) and target (y)
X = data.drop('species', axis=1)
y = data['species']
print(X)
print(y)
X_train, X_test, y_train, y_test = train_test_split(X, y, test_size=0.2, random_state=42)

# Standardize the features
scaler = StandardScaler()
X_train = scaler.fit_transform(X_train)
print(X_train)
X_test = scaler.transform(X_test)
print(X_test)

# Initialize the KNN classifier
knn = KNeighborsClassifier(n_neighbors=3)
# Train the model
knn.fit(X_train, y_train)

y_pred = knn.predict(X_test)
print(y_pred)

accuracy = accuracy_score(y_test, y_pred)
print(f"Accuracy: {accuracy:.2f}\n")

# Classification report
print("Classification Report:")
print(classification_report(y_test, y_pred))

# Confusion matrix
plt.figure(figsize=(8, 6))
cm = confusion_matrix(y_test, y_pred)
sns.heatmap(cm, annot=True, cmap='Blues', fmt='d', xticklabels=knn.classes_, yticklabels=knn.classes_)
plt.xlabel('Predicted')
plt.ylabel('Actual')
plt.title('Confusion Matrix')
plt.show()